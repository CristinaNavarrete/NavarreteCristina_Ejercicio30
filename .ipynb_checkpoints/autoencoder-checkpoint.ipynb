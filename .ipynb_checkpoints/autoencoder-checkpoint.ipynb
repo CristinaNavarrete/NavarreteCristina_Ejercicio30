{
 "cells": [
  {
   "cell_type": "code",
   "execution_count": 168,
   "metadata": {},
   "outputs": [],
   "source": [
    "import numpy as np\n",
    "import matplotlib.pyplot as plt\n",
    "import sklearn.datasets\n",
    "import sklearn.preprocessing\n",
    "import torch\n",
    "import torchvision\n",
    "import torchvision.datasets\n",
    "import torchvision.models\n",
    "import torchvision.transforms"
   ]
  },
  {
   "cell_type": "code",
   "execution_count": 169,
   "metadata": {},
   "outputs": [
    {
     "name": "stdout",
     "output_type": "stream",
     "text": [
      "(1797, 8, 8)\n"
     ]
    }
   ],
   "source": [
    "numeros = sklearn.datasets.load_digits()\n",
    "imagenes = numeros['images']  # Hay 1797 digitos representados en imagenes 8x8\n",
    "n_imagenes = len(imagenes)\n",
    "X = imagenes.copy()\n",
    "Y = numeros['target']\n",
    "print(np.shape(X))"
   ]
  },
  {
   "cell_type": "code",
   "execution_count": 170,
   "metadata": {},
   "outputs": [
    {
     "name": "stdout",
     "output_type": "stream",
     "text": [
      "torch.Size([1797, 1, 8, 8])\n"
     ]
    }
   ],
   "source": [
    "inputs = torch.autograd.Variable(torch.Tensor(X).float()).unsqueeze(1)\n",
    "print(inputs.size())"
   ]
  },
  {
   "cell_type": "code",
   "execution_count": 171,
   "metadata": {},
   "outputs": [
    {
     "data": {
      "image/png": "[encoded data removed]",
      "text/plain": [
       "<Figure size 1008x360 with 5 Axes>"
      ]
     },
     "metadata": {
      "needs_background": "light"
     },
     "output_type": "display_data"
    }
   ],
   "source": [
    "# muestra algunos ejemplos\n",
    "\n",
    "n_items = inputs.data.size()[0]\n",
    "random_items = np.random.choice(np.arange(n_items), 5)\n",
    "\n",
    "plt.figure(figsize=(14,5))\n",
    "for i in range(5):\n",
    "    plt.subplot(1,5,i+1)\n",
    "    item  = random_items[i]\n",
    "    plt.imshow(inputs[item][0].detach().numpy())\n",
    "    plt.title(Y[item])"
   ]
  },
  {
   "cell_type": "code",
   "execution_count": 172,
   "metadata": {},
   "outputs": [
    {
     "data": {
      "text/plain": [
       "torch.Size([1797, 1, 8, 8])"
      ]
     },
     "execution_count": 172,
     "metadata": {},
     "output_type": "execute_result"
    }
   ],
   "source": [
    "# normaliza\n",
    "mean = inputs.mean(dim=0)\n",
    "std = inputs.std(dim=0)\n",
    "std[std==0]=1.0\n",
    "\n",
    "for i in range(len(inputs)):\n",
    "    inputs[i] = (inputs[i])/std\n",
    "np.shape(inputs)\n",
    "\n"
   ]
  },
  {
   "cell_type": "markdown",
   "metadata": {},
   "source": [
    "# Los que se van a graficar"
   ]
  },
  {
   "cell_type": "code",
   "execution_count": 173,
   "metadata": {},
   "outputs": [],
   "source": [
    "#Número total de parámetros de la red convolucional\n",
    "N_Cs=[]\n",
    "#Dimensionalidad del espacio latente\n",
    "N_Ls=[]\n",
    "#losses\n",
    "losses=[]"
   ]
  },
  {
   "cell_type": "markdown",
   "metadata": {},
   "source": [
    "# Primera corrida aumentando la dimensionalidad de los canales al final de ENCODER"
   ]
  },
  {
   "cell_type": "code",
   "execution_count": 174,
   "metadata": {},
   "outputs": [],
   "source": [
    "# define el autoencoder\n",
    "class Autoencoder(torch.nn.Module):\n",
    "    def __init__(self):\n",
    "        super(Autoencoder,self).__init__()\n",
    "        self.encoder = torch.nn.Sequential(\n",
    "            torch.nn.Conv2d(1, 32, kernel_size=3),\n",
    "            torch.nn.Conv2d(32,16,kernel_size=3),\n",
    "            torch.nn.Conv2d(16,10,kernel_size= 3))\n",
    "        self.decoder = torch.nn.Sequential(\n",
    "            torch.nn.ConvTranspose2d(10,8,kernel_size=3),\n",
    "            torch.nn.ConvTranspose2d(8,16,kernel_size=3),\n",
    "            torch.nn.ConvTranspose2d(16,1,kernel_size=3))\n",
    "    def forward(self,x):\n",
    "        x = self.encoder(x)\n",
    "        x = self.decoder(x)\n",
    "        return x"
   ]
  },
  {
   "cell_type": "code",
   "execution_count": 175,
   "metadata": {},
   "outputs": [],
   "source": [
    "# inicializa modelo, loss y optimizador\n",
    "num_epochs = 100\n",
    "model = Autoencoder()\n",
    "distance = torch.nn.MSELoss()\n",
    "optimizer = torch.optim.Adam(model.parameters(), lr=0.005, weight_decay=1E-4)"
   ]
  },
  {
   "cell_type": "code",
   "execution_count": 176,
   "metadata": {},
   "outputs": [
    {
     "name": "stdout",
     "output_type": "stream",
     "text": [
      "epoch [1/100], loss:2.4961\n",
      "epoch [26/100], loss:0.6808\n",
      "epoch [51/100], loss:0.5147\n",
      "epoch [76/100], loss:0.4322\n",
      "epoch [100/100], loss:0.3808\n"
     ]
    }
   ],
   "source": [
    "# entrenamiento\n",
    "loss_list = [] \n",
    "for epoch in range(num_epochs):\n",
    "    output = model(inputs)\n",
    "    loss = distance(output, inputs)\n",
    "    optimizer.zero_grad()\n",
    "    loss.backward()\n",
    "    optimizer.step()\n",
    "    loss_list.append(loss.item())\n",
    "    if epoch==0 or epoch==25 or epoch==50 or epoch==75 or epoch==99:\n",
    "        print('epoch [{}/{}], loss:{:.4f}'.format(epoch+1, num_epochs, loss.item()))"
   ]
  },
  {
   "cell_type": "code",
   "execution_count": 177,
   "metadata": {},
   "outputs": [
    {
     "name": "stdout",
     "output_type": "stream",
     "text": [
      "torch.Size([1797, 10, 2, 2])\n"
     ]
    }
   ],
   "source": [
    "x_transform = model(inputs)\n",
    "latent_space = model.encoder(inputs)\n",
    "print(latent_space.size())"
   ]
  },
  {
   "cell_type": "code",
   "execution_count": 178,
   "metadata": {},
   "outputs": [
    {
     "data": {
      "image/png": "[encoded data removed]",
      "text/plain": [
       "<Figure size 1008x1008 with 15 Axes>"
      ]
     },
     "metadata": {
      "needs_background": "light"
     },
     "output_type": "display_data"
    }
   ],
   "source": [
    "# muestra los resultados de las cuatro capas de convolucion\n",
    "plt.figure(figsize=(14,14))\n",
    "offset = 100\n",
    "for i in range(5):\n",
    "    plt.subplot(5,5,i+1) #imagenes originales\n",
    "    plt.imshow((inputs[i+offset][0].detach().numpy()))\n",
    "    plt.title(Y[i+offset])\n",
    "    \n",
    "    j=0 # las imagenes reconstruidas por el autoencoder\n",
    "    plt.subplot(5,5,(i+1)+5*(j+1))\n",
    "    plt.imshow(x_transform[i+offset][0].detach().numpy())\n",
    "    \n",
    "    j=1 # una de las capas de la representacion latente\n",
    "    plt.subplot(5,5,(i+1)+5*(j+1))\n",
    "    plt.imshow(latent_space[i+offset][0].detach().numpy())\n"
   ]
  },
  {
   "cell_type": "code",
   "execution_count": 180,
   "metadata": {},
   "outputs": [
    {
     "name": "stdout",
     "output_type": "stream",
     "text": [
      "8435\n",
      "torch.Size([1797, 10, 2, 2])\n",
      "0.3807767629623413\n"
     ]
    }
   ],
   "source": [
    "n_p=0\n",
    "for m in model.parameters():\n",
    "    n_p+=m.flatten().size()[0]\n",
    "print(n_p)\n",
    "N_Cs.append(n_p)\n",
    "losses.append(loss.item())\n",
    "N_Ls.append(latent_space.size()[2])\n",
    "print(latent_space.size())\n",
    "print(loss.item())\n"
   ]
  },
  {
   "cell_type": "markdown",
   "metadata": {},
   "source": [
    "# Segunda corrida introduciendo un stride al inicio de ENCODER"
   ]
  },
  {
   "cell_type": "code",
   "execution_count": 181,
   "metadata": {},
   "outputs": [],
   "source": [
    "# define el autoencoder\n",
    "class Autoencoder(torch.nn.Module):\n",
    "    def __init__(self):\n",
    "        super(Autoencoder,self).__init__()\n",
    "        self.encoder = torch.nn.Sequential(\n",
    "            torch.nn.Conv2d(1, 32, kernel_size=3,stride=1),\n",
    "            torch.nn.Conv2d(32,16,kernel_size=3),\n",
    "            torch.nn.Conv2d(16,10,kernel_size= 3))\n",
    "        self.decoder = torch.nn.Sequential(\n",
    "            torch.nn.ConvTranspose2d(10,8,kernel_size=3),\n",
    "            torch.nn.ConvTranspose2d(8,16,kernel_size=3),\n",
    "            torch.nn.ConvTranspose2d(16,1,kernel_size=3))\n",
    "    def forward(self,x):\n",
    "        x = self.encoder(x)\n",
    "        x = self.decoder(x)\n",
    "        return x"
   ]
  },
  {
   "cell_type": "code",
   "execution_count": 182,
   "metadata": {},
   "outputs": [],
   "source": [
    "# inicializa modelo, loss y optimizador\n",
    "num_epochs = 100\n",
    "model = Autoencoder()\n",
    "distance = torch.nn.MSELoss()\n",
    "optimizer = torch.optim.Adam(model.parameters(), lr=0.005, weight_decay=1E-4)"
   ]
  },
  {
   "cell_type": "code",
   "execution_count": 183,
   "metadata": {},
   "outputs": [
    {
     "name": "stdout",
     "output_type": "stream",
     "text": [
      "epoch [1/100], loss:2.1578\n",
      "epoch [26/100], loss:0.7530\n",
      "epoch [51/100], loss:0.5113\n",
      "epoch [76/100], loss:0.4167\n",
      "epoch [100/100], loss:0.3686\n"
     ]
    }
   ],
   "source": [
    "# entrenamiento\n",
    "loss_list = [] \n",
    "for epoch in range(num_epochs):\n",
    "    output = model(inputs)\n",
    "    loss = distance(output, inputs)\n",
    "    optimizer.zero_grad()\n",
    "    loss.backward()\n",
    "    optimizer.step()\n",
    "    loss_list.append(loss.item())\n",
    "    if epoch==0 or epoch==25 or epoch==50 or epoch==75 or epoch==99:\n",
    "        print('epoch [{}/{}], loss:{:.4f}'.format(epoch+1, num_epochs, loss.item()))"
   ]
  },
  {
   "cell_type": "code",
   "execution_count": 184,
   "metadata": {},
   "outputs": [
    {
     "name": "stdout",
     "output_type": "stream",
     "text": [
      "torch.Size([1797, 10, 2, 2])\n",
      "8435\n"
     ]
    }
   ],
   "source": [
    "x_transform = model(inputs)\n",
    "latent_space = model.encoder(inputs)\n",
    "print(latent_space.size())\n",
    "n_p=0\n",
    "for m in model.parameters():\n",
    "    n_p+=m.flatten().size()[0]\n",
    "print(n_p)\n",
    "N_Cs.append(n_p)\n",
    "losses.append(loss.item())\n",
    "N_Ls.append(latent_space.size()[2])"
   ]
  },
  {
   "cell_type": "markdown",
   "metadata": {},
   "source": [
    "# Tercera: Aumentando la profundidad de la red ENCODER en una capa más"
   ]
  },
  {
   "cell_type": "code",
   "execution_count": 185,
   "metadata": {},
   "outputs": [],
   "source": [
    "# define el autoencoder\n",
    "class Autoencoder(torch.nn.Module):\n",
    "    def __init__(self):\n",
    "        super(Autoencoder,self).__init__()\n",
    "        self.encoder = torch.nn.Sequential(\n",
    "            torch.nn.Conv2d(1, 50, kernel_size=2),\n",
    "            torch.nn.Conv2d(50,32,kernel_size=2),\n",
    "            torch.nn.Conv2d(32,16,kernel_size= 3),\n",
    "            torch.nn.Conv2d(16,10,kernel_size= 3))\n",
    "        self.decoder = torch.nn.Sequential(\n",
    "            torch.nn.ConvTranspose2d(10,8,kernel_size=3),\n",
    "            torch.nn.ConvTranspose2d(8,16,kernel_size=3),\n",
    "            torch.nn.ConvTranspose2d(16,1,kernel_size=3))\n",
    "    def forward(self,x):\n",
    "        x = self.encoder(x)\n",
    "        x = self.decoder(x)\n",
    "        return x"
   ]
  },
  {
   "cell_type": "code",
   "execution_count": 186,
   "metadata": {},
   "outputs": [],
   "source": [
    "# inicializa modelo, loss y optimizador\n",
    "num_epochs = 100\n",
    "model = Autoencoder()\n",
    "distance = torch.nn.MSELoss()\n",
    "optimizer = torch.optim.Adam(model.parameters(), lr=0.005, weight_decay=1E-4)"
   ]
  },
  {
   "cell_type": "code",
   "execution_count": 187,
   "metadata": {},
   "outputs": [
    {
     "name": "stdout",
     "output_type": "stream",
     "text": [
      "epoch [1/100], loss:2.3095\n",
      "epoch [26/100], loss:0.7862\n",
      "epoch [51/100], loss:0.5382\n",
      "epoch [76/100], loss:0.4384\n",
      "epoch [100/100], loss:0.3798\n"
     ]
    }
   ],
   "source": [
    "# entrenamiento\n",
    "loss_list = [] \n",
    "for epoch in range(num_epochs):\n",
    "    output = model(inputs)\n",
    "    loss = distance(output, inputs)\n",
    "    optimizer.zero_grad()\n",
    "    loss.backward()\n",
    "    optimizer.step()\n",
    "    loss_list.append(loss.item())\n",
    "    if epoch==0 or epoch==25 or epoch==50 or epoch==75 or epoch==99:\n",
    "        print('epoch [{}/{}], loss:{:.4f}'.format(epoch+1, num_epochs, loss.item()))"
   ]
  },
  {
   "cell_type": "code",
   "execution_count": 188,
   "metadata": {},
   "outputs": [
    {
     "name": "stdout",
     "output_type": "stream",
     "text": [
      "torch.Size([1797, 10, 2, 2])\n",
      "14797\n"
     ]
    }
   ],
   "source": [
    "x_transform = model(inputs)\n",
    "latent_space = model.encoder(inputs)\n",
    "print(latent_space.size())\n",
    "n_p=0\n",
    "for m in model.parameters():\n",
    "    n_p+=m.flatten().size()[0]\n",
    "print(n_p)\n",
    "N_Cs.append(n_p)\n",
    "losses.append(loss.item())\n",
    "N_Ls.append(latent_space.size()[2])"
   ]
  },
  {
   "cell_type": "markdown",
   "metadata": {},
   "source": [
    "# Cuarta: Aumentar el Kernel modificando lo que sea necesario"
   ]
  },
  {
   "cell_type": "code",
   "execution_count": 189,
   "metadata": {},
   "outputs": [],
   "source": [
    "# define el autoencoder\n",
    "class Autoencoder(torch.nn.Module):\n",
    "    def __init__(self):\n",
    "        super(Autoencoder,self).__init__()\n",
    "        self.encoder = torch.nn.Sequential(\n",
    "            torch.nn.Conv2d(1, 8, kernel_size=5),\n",
    "            torch.nn.Conv2d(8,10,kernel_size=3))\n",
    "        self.decoder = torch.nn.Sequential(\n",
    "            torch.nn.ConvTranspose2d(10,8,kernel_size=3),\n",
    "            torch.nn.ConvTranspose2d(8,16,kernel_size=3),\n",
    "            torch.nn.ConvTranspose2d(16,1,kernel_size=3))\n",
    "    def forward(self,x):\n",
    "        x = self.encoder(x)\n",
    "        x = self.decoder(x)\n",
    "        return x"
   ]
  },
  {
   "cell_type": "code",
   "execution_count": 190,
   "metadata": {},
   "outputs": [],
   "source": [
    "# inicializa modelo, loss y optimizador\n",
    "num_epochs = 100\n",
    "model = Autoencoder()\n",
    "distance = torch.nn.MSELoss()\n",
    "optimizer = torch.optim.Adam(model.parameters(), lr=0.005, weight_decay=1E-4)"
   ]
  },
  {
   "cell_type": "code",
   "execution_count": 191,
   "metadata": {},
   "outputs": [
    {
     "name": "stdout",
     "output_type": "stream",
     "text": [
      "epoch [1/100], loss:2.5551\n",
      "epoch [26/100], loss:0.8070\n",
      "epoch [51/100], loss:0.5721\n",
      "epoch [76/100], loss:0.4909\n",
      "epoch [100/100], loss:0.4266\n"
     ]
    }
   ],
   "source": [
    "# entrenamiento\n",
    "loss_list = [] \n",
    "for epoch in range(num_epochs):\n",
    "    output = model(inputs)\n",
    "    loss = distance(output, inputs)\n",
    "    optimizer.zero_grad()\n",
    "    loss.backward()\n",
    "    optimizer.step()\n",
    "    loss_list.append(loss.item())\n",
    "    if epoch==0 or epoch==25 or epoch==50 or epoch==75 or epoch==99:\n",
    "        print('epoch [{}/{}], loss:{:.4f}'.format(epoch+1, num_epochs, loss.item()))"
   ]
  },
  {
   "cell_type": "code",
   "execution_count": 192,
   "metadata": {},
   "outputs": [
    {
     "name": "stdout",
     "output_type": "stream",
     "text": [
      "torch.Size([1797, 10, 2, 2])\n",
      "2979\n"
     ]
    }
   ],
   "source": [
    "x_transform = model(inputs)\n",
    "latent_space = model.encoder(inputs)\n",
    "print(latent_space.size())\n",
    "n_p=0\n",
    "for m in model.parameters():\n",
    "    n_p+=m.flatten().size()[0]\n",
    "print(n_p)\n",
    "N_Cs.append(n_p)\n",
    "losses.append(loss.item())\n",
    "N_Ls.append(latent_space.size()[2])"
   ]
  },
  {
   "cell_type": "markdown",
   "metadata": {},
   "source": [
    "# Quinta: "
   ]
  },
  {
   "cell_type": "code",
   "execution_count": 193,
   "metadata": {},
   "outputs": [],
   "source": [
    "# define el autoencoder\n",
    "class Autoencoder(torch.nn.Module):\n",
    "    def __init__(self):\n",
    "        super(Autoencoder,self).__init__()\n",
    "        self.encoder = torch.nn.Sequential(\n",
    "            torch.nn.Conv2d(1, 32, kernel_size=3),\n",
    "            torch.nn.Conv2d(32,16,kernel_size=3),\n",
    "            torch.nn.Conv2d(16,10,kernel_size= 3))\n",
    "            \n",
    "        self.decoder = torch.nn.Sequential(\n",
    "            torch.nn.ConvTranspose2d(10,8,kernel_size=5),\n",
    "            torch.nn.ConvTranspose2d(8,1,kernel_size=3))\n",
    "    def forward(self,x):\n",
    "        x = self.encoder(x)\n",
    "        x = self.decoder(x)\n",
    "        return x"
   ]
  },
  {
   "cell_type": "code",
   "execution_count": 194,
   "metadata": {},
   "outputs": [],
   "source": [
    "# inicializa modelo, loss y optimizador\n",
    "num_epochs = 100\n",
    "model = Autoencoder()\n",
    "distance = torch.nn.MSELoss()\n",
    "optimizer = torch.optim.Adam(model.parameters(), lr=0.005, weight_decay=1E-4)"
   ]
  },
  {
   "cell_type": "code",
   "execution_count": 195,
   "metadata": {},
   "outputs": [
    {
     "name": "stdout",
     "output_type": "stream",
     "text": [
      "epoch [1/100], loss:1.9018\n",
      "epoch [26/100], loss:0.6307\n",
      "epoch [51/100], loss:0.4716\n",
      "epoch [76/100], loss:0.3808\n",
      "epoch [100/100], loss:0.3138\n"
     ]
    }
   ],
   "source": [
    "# entrenamiento\n",
    "loss_list = [] \n",
    "for epoch in range(num_epochs):\n",
    "    output = model(inputs)\n",
    "    loss = distance(output, inputs)\n",
    "    optimizer.zero_grad()\n",
    "    loss.backward()\n",
    "    optimizer.step()\n",
    "    loss_list.append(loss.item())\n",
    "    if epoch==0 or epoch==25 or epoch==50 or epoch==75 or epoch==99:\n",
    "        print('epoch [{}/{}], loss:{:.4f}'.format(epoch+1, num_epochs, loss.item()))"
   ]
  },
  {
   "cell_type": "code",
   "execution_count": 196,
   "metadata": {},
   "outputs": [
    {
     "name": "stdout",
     "output_type": "stream",
     "text": [
      "torch.Size([1797, 10, 2, 2])\n",
      "8475\n"
     ]
    }
   ],
   "source": [
    "x_transform = model(inputs)\n",
    "latent_space = model.encoder(inputs)\n",
    "print(latent_space.size())\n",
    "n_p=0\n",
    "for m in model.parameters():\n",
    "    n_p+=m.flatten().size()[0]\n",
    "print(n_p)\n",
    "N_Cs.append(n_p)\n",
    "losses.append(loss.item())\n",
    "N_Ls.append(latent_space.size()[2])"
   ]
  },
  {
   "cell_type": "markdown",
   "metadata": {},
   "source": [
    "# Sexta:"
   ]
  },
  {
   "cell_type": "code",
   "execution_count": 197,
   "metadata": {},
   "outputs": [],
   "source": [
    "# define el autoencoder\n",
    "class Autoencoder(torch.nn.Module):\n",
    "    def __init__(self):\n",
    "        super(Autoencoder,self).__init__()\n",
    "        self.encoder = torch.nn.Sequential(\n",
    "            torch.nn.Conv2d(1, 32, kernel_size=1),\n",
    "            torch.nn.Conv2d(32,16,kernel_size=1),\n",
    "            torch.nn.Conv2d(16,10,kernel_size= 1))\n",
    "            \n",
    "        self.decoder = torch.nn.Sequential(\n",
    "            torch.nn.ConvTranspose2d(10,8,kernel_size=1),\n",
    "            torch.nn.ConvTranspose2d(8,1,kernel_size=1))\n",
    "    def forward(self,x):\n",
    "        x = self.encoder(x)\n",
    "        x = self.decoder(x)\n",
    "        return x"
   ]
  },
  {
   "cell_type": "code",
   "execution_count": 198,
   "metadata": {},
   "outputs": [],
   "source": [
    "# inicializa modelo, loss y optimizador\n",
    "num_epochs = 100\n",
    "model = Autoencoder()\n",
    "distance = torch.nn.MSELoss()\n",
    "optimizer = torch.optim.Adam(model.parameters(), lr=0.005, weight_decay=1E-4)"
   ]
  },
  {
   "cell_type": "code",
   "execution_count": 199,
   "metadata": {},
   "outputs": [
    {
     "name": "stdout",
     "output_type": "stream",
     "text": [
      "epoch [1/100], loss:4.0377\n",
      "epoch [26/100], loss:0.1005\n",
      "epoch [51/100], loss:0.0064\n",
      "epoch [76/100], loss:0.0006\n",
      "epoch [100/100], loss:0.0000\n"
     ]
    }
   ],
   "source": [
    "# entrenamiento\n",
    "loss_list = [] \n",
    "for epoch in range(num_epochs):\n",
    "    output = model(inputs)\n",
    "    loss = distance(output, inputs)\n",
    "    optimizer.zero_grad()\n",
    "    loss.backward()\n",
    "    optimizer.step()\n",
    "    loss_list.append(loss.item())\n",
    "    if epoch==0 or epoch==25 or epoch==50 or epoch==75 or epoch==99:\n",
    "        print('epoch [{}/{}], loss:{:.4f}'.format(epoch+1, num_epochs, loss.item()))"
   ]
  },
  {
   "cell_type": "code",
   "execution_count": 200,
   "metadata": {},
   "outputs": [
    {
     "name": "stdout",
     "output_type": "stream",
     "text": [
      "torch.Size([1797, 10, 8, 8])\n",
      "859\n"
     ]
    }
   ],
   "source": [
    "x_transform = model(inputs)\n",
    "latent_space = model.encoder(inputs)\n",
    "print(latent_space.size())\n",
    "n_p=0\n",
    "for m in model.parameters():\n",
    "    n_p+=m.flatten().size()[0]\n",
    "print(n_p)\n",
    "N_Cs.append(n_p)\n",
    "losses.append(loss.item())\n",
    "N_Ls.append(latent_space.size()[2])"
   ]
  },
  {
   "cell_type": "markdown",
   "metadata": {},
   "source": [
    "# Séptima:"
   ]
  },
  {
   "cell_type": "code",
   "execution_count": 201,
   "metadata": {},
   "outputs": [],
   "source": [
    "# define el autoencoder\n",
    "class Autoencoder(torch.nn.Module):\n",
    "    def __init__(self):\n",
    "        super(Autoencoder,self).__init__()\n",
    "        self.encoder = torch.nn.Sequential(\n",
    "            torch.nn.Conv2d(1, 32, kernel_size=2),\n",
    "            torch.nn.Conv2d(32,16,kernel_size=2),\n",
    "            torch.nn.Conv2d(16,10,kernel_size= 2))\n",
    "            \n",
    "        self.decoder = torch.nn.Sequential(\n",
    "            torch.nn.ConvTranspose2d(10,8,kernel_size=3),\n",
    "            torch.nn.ConvTranspose2d(8,1,kernel_size=2))\n",
    "    def forward(self,x):\n",
    "        x = self.encoder(x)\n",
    "        x = self.decoder(x)\n",
    "        return x"
   ]
  },
  {
   "cell_type": "code",
   "execution_count": 202,
   "metadata": {},
   "outputs": [],
   "source": [
    "# inicializa modelo, loss y optimizador\n",
    "num_epochs = 100\n",
    "model = Autoencoder()\n",
    "distance = torch.nn.MSELoss()\n",
    "optimizer = torch.optim.Adam(model.parameters(), lr=0.005, weight_decay=1E-4)"
   ]
  },
  {
   "cell_type": "code",
   "execution_count": 203,
   "metadata": {},
   "outputs": [
    {
     "name": "stdout",
     "output_type": "stream",
     "text": [
      "epoch [1/100], loss:2.0173\n",
      "epoch [26/100], loss:0.4316\n",
      "epoch [51/100], loss:0.3031\n",
      "epoch [76/100], loss:0.2626\n",
      "epoch [100/100], loss:0.2431\n"
     ]
    }
   ],
   "source": [
    "# entrenamiento\n",
    "loss_list = [] \n",
    "for epoch in range(num_epochs):\n",
    "    output = model(inputs)\n",
    "    loss = distance(output, inputs)\n",
    "    optimizer.zero_grad()\n",
    "    loss.backward()\n",
    "    optimizer.step()\n",
    "    loss_list.append(loss.item())\n",
    "    if epoch==0 or epoch==25 or epoch==50 or epoch==75 or epoch==99:\n",
    "        print('epoch [{}/{}], loss:{:.4f}'.format(epoch+1, num_epochs, loss.item()))"
   ]
  },
  {
   "cell_type": "code",
   "execution_count": 204,
   "metadata": {},
   "outputs": [
    {
     "name": "stdout",
     "output_type": "stream",
     "text": [
      "torch.Size([1797, 10, 5, 5])\n",
      "3635\n"
     ]
    }
   ],
   "source": [
    "x_transform = model(inputs)\n",
    "latent_space = model.encoder(inputs)\n",
    "print(latent_space.size())\n",
    "n_p=0\n",
    "for m in model.parameters():\n",
    "    n_p+=m.flatten().size()[0]\n",
    "print(n_p)\n",
    "N_Cs.append(n_p)\n",
    "losses.append(loss.item())\n",
    "N_Ls.append(latent_space.size()[2])"
   ]
  },
  {
   "cell_type": "markdown",
   "metadata": {},
   "source": [
    "# Octava:"
   ]
  },
  {
   "cell_type": "code",
   "execution_count": 208,
   "metadata": {},
   "outputs": [],
   "source": [
    "# define el autoencoder\n",
    "class Autoencoder(torch.nn.Module):\n",
    "    def __init__(self):\n",
    "        super(Autoencoder,self).__init__()\n",
    "        self.encoder = torch.nn.Sequential(\n",
    "            torch.nn.Conv2d(1, 32, kernel_size=3),\n",
    "            torch.nn.Conv2d(32,10,kernel_size=2))\n",
    "            \n",
    "        self.decoder = torch.nn.Sequential(\n",
    "            torch.nn.ConvTranspose2d(10,8,kernel_size=3),\n",
    "            torch.nn.ConvTranspose2d(8,1,kernel_size=2))\n",
    "    def forward(self,x):\n",
    "        x = self.encoder(x)\n",
    "        x = self.decoder(x)\n",
    "        return x"
   ]
  },
  {
   "cell_type": "code",
   "execution_count": 209,
   "metadata": {},
   "outputs": [],
   "source": [
    "# inicializa modelo, loss y optimizador\n",
    "num_epochs = 100\n",
    "model = Autoencoder()\n",
    "distance = torch.nn.MSELoss()\n",
    "optimizer = torch.optim.Adam(model.parameters(), lr=0.005, weight_decay=1E-4)"
   ]
  },
  {
   "cell_type": "code",
   "execution_count": 210,
   "metadata": {},
   "outputs": [
    {
     "name": "stdout",
     "output_type": "stream",
     "text": [
      "epoch [1/100], loss:2.0729\n",
      "epoch [26/100], loss:0.4994\n",
      "epoch [51/100], loss:0.3645\n",
      "epoch [76/100], loss:0.2937\n",
      "epoch [100/100], loss:0.2553\n"
     ]
    }
   ],
   "source": [
    "# entrenamiento\n",
    "loss_list = [] \n",
    "for epoch in range(num_epochs):\n",
    "    output = model(inputs)\n",
    "    loss = distance(output, inputs)\n",
    "    optimizer.zero_grad()\n",
    "    loss.backward()\n",
    "    optimizer.step()\n",
    "    loss_list.append(loss.item())\n",
    "    if epoch==0 or epoch==25 or epoch==50 or epoch==75 or epoch==99:\n",
    "        print('epoch [{}/{}], loss:{:.4f}'.format(epoch+1, num_epochs, loss.item()))"
   ]
  },
  {
   "cell_type": "code",
   "execution_count": 211,
   "metadata": {},
   "outputs": [
    {
     "name": "stdout",
     "output_type": "stream",
     "text": [
      "torch.Size([1797, 10, 5, 5])\n",
      "2371\n"
     ]
    }
   ],
   "source": [
    "x_transform = model(inputs)\n",
    "latent_space = model.encoder(inputs)\n",
    "print(latent_space.size())\n",
    "n_p=0\n",
    "for m in model.parameters():\n",
    "    n_p+=m.flatten().size()[0]\n",
    "print(n_p)\n",
    "N_Cs.append(n_p)\n",
    "losses.append(loss.item())\n",
    "N_Ls.append(latent_space.size()[2])"
   ]
  },
  {
   "cell_type": "markdown",
   "metadata": {},
   "source": [
    "# Novena"
   ]
  },
  {
   "cell_type": "code",
   "execution_count": 212,
   "metadata": {},
   "outputs": [],
   "source": [
    "# define el autoencoder\n",
    "class Autoencoder(torch.nn.Module):\n",
    "    def __init__(self):\n",
    "        super(Autoencoder,self).__init__()\n",
    "        self.encoder = torch.nn.Sequential(\n",
    "            torch.nn.Conv2d(1, 32, kernel_size=2),\n",
    "            torch.nn.Conv2d(32,16,kernel_size=2),\n",
    "            torch.nn.Conv2d(16,10,kernel_size= 4))\n",
    "            \n",
    "        self.decoder = torch.nn.Sequential(\n",
    "            torch.nn.ConvTranspose2d(10,8,kernel_size=4),\n",
    "            torch.nn.ConvTranspose2d(8,1,kernel_size=3))\n",
    "    def forward(self,x):\n",
    "        x = self.encoder(x)\n",
    "        x = self.decoder(x)\n",
    "        return x"
   ]
  },
  {
   "cell_type": "code",
   "execution_count": 213,
   "metadata": {},
   "outputs": [],
   "source": [
    "# inicializa modelo, loss y optimizador\n",
    "num_epochs = 100\n",
    "model = Autoencoder()\n",
    "distance = torch.nn.MSELoss()\n",
    "optimizer = torch.optim.Adam(model.parameters(), lr=0.005, weight_decay=1E-4)"
   ]
  },
  {
   "cell_type": "code",
   "execution_count": 214,
   "metadata": {},
   "outputs": [
    {
     "name": "stdout",
     "output_type": "stream",
     "text": [
      "epoch [1/100], loss:3.1665\n",
      "epoch [26/100], loss:0.7197\n",
      "epoch [51/100], loss:0.4703\n",
      "epoch [76/100], loss:0.3773\n",
      "epoch [100/100], loss:0.3251\n"
     ]
    }
   ],
   "source": [
    "# entrenamiento\n",
    "loss_list = [] \n",
    "for epoch in range(num_epochs):\n",
    "    output = model(inputs)\n",
    "    loss = distance(output, inputs)\n",
    "    optimizer.zero_grad()\n",
    "    loss.backward()\n",
    "    optimizer.step()\n",
    "    loss_list.append(loss.item())\n",
    "    if epoch==0 or epoch==25 or epoch==50 or epoch==75 or epoch==99:\n",
    "        print('epoch [{}/{}], loss:{:.4f}'.format(epoch+1, num_epochs, loss.item()))"
   ]
  },
  {
   "cell_type": "code",
   "execution_count": 215,
   "metadata": {},
   "outputs": [
    {
     "name": "stdout",
     "output_type": "stream",
     "text": [
      "torch.Size([1797, 10, 3, 3])\n",
      "6155\n"
     ]
    }
   ],
   "source": [
    "x_transform = model(inputs)\n",
    "latent_space = model.encoder(inputs)\n",
    "print(latent_space.size())\n",
    "n_p=0\n",
    "for m in model.parameters():\n",
    "    n_p+=m.flatten().size()[0]\n",
    "print(n_p)\n",
    "N_Cs.append(n_p)\n",
    "losses.append(loss.item())\n",
    "N_Ls.append(latent_space.size()[2])"
   ]
  },
  {
   "cell_type": "markdown",
   "metadata": {},
   "source": [
    "# Décima"
   ]
  },
  {
   "cell_type": "code",
   "execution_count": 216,
   "metadata": {},
   "outputs": [],
   "source": [
    "# define el autoencoder\n",
    "class Autoencoder(torch.nn.Module):\n",
    "    def __init__(self):\n",
    "        super(Autoencoder,self).__init__()\n",
    "        self.encoder = torch.nn.Sequential(\n",
    "            torch.nn.Conv2d(1, 16, kernel_size=4),\n",
    "            torch.nn.Conv2d(16,10,kernel_size=3))\n",
    "            \n",
    "        self.decoder = torch.nn.Sequential(\n",
    "            torch.nn.ConvTranspose2d(10,8,kernel_size=4),\n",
    "            torch.nn.ConvTranspose2d(8,1,kernel_size=3))\n",
    "    def forward(self,x):\n",
    "        x = self.encoder(x)\n",
    "        x = self.decoder(x)\n",
    "        return x"
   ]
  },
  {
   "cell_type": "code",
   "execution_count": 217,
   "metadata": {},
   "outputs": [],
   "source": [
    "# inicializa modelo, loss y optimizador\n",
    "num_epochs = 100\n",
    "model = Autoencoder()\n",
    "distance = torch.nn.MSELoss()\n",
    "optimizer = torch.optim.Adam(model.parameters(), lr=0.005, weight_decay=1E-4)"
   ]
  },
  {
   "cell_type": "code",
   "execution_count": 218,
   "metadata": {},
   "outputs": [
    {
     "name": "stdout",
     "output_type": "stream",
     "text": [
      "epoch [1/100], loss:2.1130\n",
      "epoch [26/100], loss:0.4928\n",
      "epoch [51/100], loss:0.3488\n",
      "epoch [76/100], loss:0.2765\n",
      "epoch [100/100], loss:0.2257\n"
     ]
    }
   ],
   "source": [
    "# entrenamiento\n",
    "loss_list = [] \n",
    "for epoch in range(num_epochs):\n",
    "    output = model(inputs)\n",
    "    loss = distance(output, inputs)\n",
    "    optimizer.zero_grad()\n",
    "    loss.backward()\n",
    "    optimizer.step()\n",
    "    loss_list.append(loss.item())\n",
    "    if epoch==0 or epoch==25 or epoch==50 or epoch==75 or epoch==99:\n",
    "        print('epoch [{}/{}], loss:{:.4f}'.format(epoch+1, num_epochs, loss.item()))"
   ]
  },
  {
   "cell_type": "code",
   "execution_count": 219,
   "metadata": {},
   "outputs": [
    {
     "name": "stdout",
     "output_type": "stream",
     "text": [
      "torch.Size([1797, 10, 3, 3])\n",
      "3083\n"
     ]
    }
   ],
   "source": [
    "x_transform = model(inputs)\n",
    "latent_space = model.encoder(inputs)\n",
    "print(latent_space.size())\n",
    "n_p=0\n",
    "for m in model.parameters():\n",
    "    n_p+=m.flatten().size()[0]\n",
    "print(n_p)\n",
    "N_Cs.append(n_p)\n",
    "losses.append(loss.item())\n",
    "N_Ls.append(latent_space.size()[2])"
   ]
  },
  {
   "cell_type": "markdown",
   "metadata": {},
   "source": [
    "# Las gráficas"
   ]
  },
  {
   "cell_type": "code",
   "execution_count": 220,
   "metadata": {},
   "outputs": [
    {
     "data": {
      "text/plain": [
       "[0.3807767629623413,\n",
       " 0.3807767629623413,\n",
       " 0.36859413981437683,\n",
       " 0.3798326253890991,\n",
       " 0.42660781741142273,\n",
       " 0.3137870728969574,\n",
       " 2.9978837119415402e-05,\n",
       " 0.24308182299137115,\n",
       " 0.2553066313266754,\n",
       " 0.325053334236145,\n",
       " 0.22566747665405273]"
      ]
     },
     "execution_count": 220,
     "metadata": {},
     "output_type": "execute_result"
    }
   ],
   "source": [
    "losses"
   ]
  },
  {
   "cell_type": "code",
   "execution_count": 223,
   "metadata": {},
   "outputs": [
    {
     "data": {
      "text/plain": [
       "Text(0.5, 1.0, 'N_Cs vs N_Ls')"
      ]
     },
     "execution_count": 223,
     "metadata": {},
     "output_type": "execute_result"
    },
    {
     "data": {
      "image/png": "[encoded data removed]",
      "text/plain": [
       "<Figure size 1080x432 with 3 Axes>"
      ]
     },
     "metadata": {
      "needs_background": "light"
     },
     "output_type": "display_data"
    }
   ],
   "source": [
    "plt.figure(figsize=(15,6))\n",
    "plt.subplot(1,3,1)\n",
    "plt.scatter(N_Cs,losses)\n",
    "plt.title(\"Losses vs N_Cs\")\n",
    "plt.subplot(1,3,2)\n",
    "plt.scatter(N_Ls,losses)\n",
    "plt.title(\"Losses vs N_Ls\")\n",
    "plt.subplot(1,3,3)\n",
    "plt.scatter(N_Cs,N_Ls)\n",
    "plt.title(\"N_Cs vs N_Ls\")"
   ]
  },
  {
   "cell_type": "code",
   "execution_count": null,
   "metadata": {},
   "outputs": [],
   "source": []
  }
 ],
 "metadata": {
  "kernelspec": {
   "display_name": "Python 3",
   "language": "python",
   "name": "python3"
  },
  "language_info": {
   "codemirror_mode": {
    "name": "ipython",
    "version": 3
   },
   "file_extension": ".py",
   "mimetype": "text/x-python",
   "name": "python",
   "nbconvert_exporter": "python",
   "pygments_lexer": "ipython3",
   "version": "3.7.6"
  }
 },
 "nbformat": 4,
 "nbformat_minor": 4
}
